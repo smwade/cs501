{
 "cells": [
  {
   "cell_type": "markdown",
   "metadata": {},
   "source": [
    "# Tensorflow\n",
    "Sean Wade"
   ]
  },
  {
   "cell_type": "code",
   "execution_count": 1,
   "metadata": {
    "collapsed": true
   },
   "outputs": [],
   "source": [
    "import tensorflow as tf\n",
    "import numpy as np"
   ]
  },
  {
   "cell_type": "code",
   "execution_count": 2,
   "metadata": {
    "collapsed": false
   },
   "outputs": [
    {
     "name": "stdout",
     "output_type": "stream",
     "text": [
      "Extracting MNIST_data/train-images-idx3-ubyte.gz\n",
      "Extracting MNIST_data/train-labels-idx1-ubyte.gz\n",
      "Extracting MNIST_data/t10k-images-idx3-ubyte.gz\n",
      "Extracting MNIST_data/t10k-labels-idx1-ubyte.gz\n"
     ]
    }
   ],
   "source": [
    "from tensorflow.examples.tutorials.mnist import input_data\n",
    "mnist = input_data.read_data_sets('MNIST_data', one_hot=True)"
   ]
  },
  {
   "cell_type": "code",
   "execution_count": 7,
   "metadata": {
    "collapsed": false
   },
   "outputs": [
    {
     "name": "stderr",
     "output_type": "stream",
     "text": [
      "Exception AssertionError: AssertionError(\"Nesting violated for default stack of <type 'weakref'> objects\",) in <bound method InteractiveSession.__del__ of <tensorflow.python.client.session.InteractiveSession object at 0x10237d2d0>> ignored\n"
     ]
    },
    {
     "name": "stdout",
     "output_type": "stream",
     "text": [
      "0.9202\n"
     ]
    }
   ],
   "source": [
    "x = tf.placeholder(tf.float32, shape=[None, 784])\n",
    "y_ = tf.placeholder(tf.float32, shape=[None, 10])\n",
    "\n",
    "W = tf.Variable(tf.zeros([784,10]))\n",
    "b = tf.Variable(tf.zeros([10]))\n",
    "\n",
    "y = tf.nn.softmax(tf.matmul(x,W) + b)\n",
    "cross_entropy = tf.reduce_mean(-tf.reduce_sum(y_ * tf.log(y), reduction_indices=[1]))\n",
    "train_step = tf.train.GradientDescentOptimizer(0.5).minimize(cross_entropy)\n",
    "\n",
    "sess = tf.InteractiveSession()\n",
    "sess.run(tf.initialize_all_variables())\n",
    "for i in range(1000):\n",
    "    batch = mnist.train.next_batch(100)\n",
    "    train_step.run(feed_dict={x: batch[0], y_: batch[1]})\n",
    "    \n",
    "correct_prediction = tf.equal(tf.argmax(y,1), tf.argmax(y_,1))\n",
    "accuracy = tf.reduce_mean(tf.cast(correct_prediction, tf.float32))\n",
    "print(accuracy.eval(feed_dict={x: mnist.test.images, y_: mnist.test.labels}))"
   ]
  },
  {
   "cell_type": "markdown",
   "metadata": {},
   "source": [
    "___"
   ]
  },
  {
   "cell_type": "code",
   "execution_count": 3,
   "metadata": {
    "collapsed": true
   },
   "outputs": [],
   "source": [
    "def weight_variable(shape, n=\"\"):\n",
    "    initial = tf.truncated_normal(shape, stddev=0.1)\n",
    "    return tf.Variable(initial, name=n)\n",
    "\n",
    "def bias_variable(shape, n=\"\"):\n",
    "    initial = tf.constant(0.1, shape=shape)\n",
    "    return tf.Variable(initial, name=n)"
   ]
  },
  {
   "cell_type": "code",
   "execution_count": 4,
   "metadata": {
    "collapsed": true
   },
   "outputs": [],
   "source": [
    "def conv2d(x, W):\n",
    "    return tf.nn.conv2d(x, W, strides=[1, 1, 1, 1], padding='SAME')\n",
    "\n",
    "def max_pool_2x2(x):\n",
    "    return tf.nn.max_pool(x, ksize=[1, 2, 2, 1],\n",
    "                        strides=[1, 2, 2, 1], padding='SAME')"
   ]
  },
  {
   "cell_type": "code",
   "execution_count": 5,
   "metadata": {
    "collapsed": true
   },
   "outputs": [],
   "source": [
    "x = tf.placeholder(tf.float32, shape=[None, 784], name=\"x\")\n",
    "y_ = tf.placeholder(tf.float32, shape=[None, 10], name=\"y_\")\n",
    "\n",
    "with tf.name_scope(\"Wx_b\") as scope:\n",
    "    \n",
    "    #with tf.name_scope(\"layer_1\") as sub_scope1:\n",
    "    W_conv1 = weight_variable([5, 5, 1, 32], n=\"W_conv1\")\n",
    "    b_conv1 = bias_variable([32], n=\"b_conv1\")\n",
    "    x_image = tf.reshape(x, [-1,28,28,1])\n",
    "    h_conv1 = tf.nn.relu(conv2d(x_image, W_conv1) + b_conv1)\n",
    "    h_pool1 = max_pool_2x2(h_conv1)\n",
    "\n",
    "    #with tf.name_scope(\"layer_2\") as sub_scope2:\n",
    "    W_conv2 = weight_variable([5, 5, 32, 64], n=\"W_conv2\")\n",
    "    b_conv2 = bias_variable([64], n=\"b_conv2\")\n",
    "\n",
    "    h_conv2 = tf.nn.relu(conv2d(h_pool1, W_conv2) + b_conv2)\n",
    "    h_pool2 = max_pool_2x2(h_conv2)\n",
    "\n",
    "    #with tf.name_scope(\"densely_connected_layer\") as sub_scope3:\n",
    "    W_fc1 = weight_variable([7 * 7 * 64, 1024], n=\"W_fc1\")\n",
    "    b_fc1 = bias_variable([1024], n=\"b_fc\")\n",
    "\n",
    "    h_pool2_flat = tf.reshape(h_pool2, [-1, 7*7*64])\n",
    "    h_fc1 = tf.nn.relu(tf.matmul(h_pool2_flat, W_fc1) + b_fc1)\n",
    "\n",
    "    #with tf.name_scope(\"dropout\") as sub_scope4:\n",
    "    keep_prob = tf.placeholder(tf.float32, name=\"keep_prob\")\n",
    "    h_fc1_drop = tf.nn.dropout(h_fc1, keep_prob)\n",
    "\n",
    "    #with tf.name_scope(\"readout_layer\") as sub_scope5:\n",
    "    W_fc2 = weight_variable([1024, 10], n=\"W_fc2\")\n",
    "    b_fc2 = bias_variable([10], n=\"b_fc2\")\n",
    "\n",
    "    y_conv=tf.nn.softmax(tf.matmul(h_fc1_drop, W_fc2) + b_fc2)\n"
   ]
  },
  {
   "cell_type": "code",
   "execution_count": 6,
   "metadata": {
    "collapsed": false
   },
   "outputs": [
    {
     "name": "stdout",
     "output_type": "stream",
     "text": [
      "step 0, training accuracy 0.12\n",
      "step 10, training accuracy 0.24\n",
      "step 20, training accuracy 0.36\n",
      "step 30, training accuracy 0.6\n",
      "step 40, training accuracy 0.6\n",
      "step 50, training accuracy 0.76\n",
      "step 60, training accuracy 0.64\n",
      "step 70, training accuracy 0.82\n",
      "step 80, training accuracy 0.84\n",
      "step 90, training accuracy 0.84\n",
      "step 100, training accuracy 0.8\n",
      "step 110, training accuracy 0.86\n",
      "step 120, training accuracy 0.92\n",
      "step 130, training accuracy 0.9\n",
      "step 140, training accuracy 0.9\n",
      "step 150, training accuracy 0.86\n",
      "step 160, training accuracy 0.8\n",
      "step 170, training accuracy 0.92\n",
      "step 180, training accuracy 0.92\n",
      "step 190, training accuracy 0.8\n",
      "step 200, training accuracy 0.94\n",
      "step 210, training accuracy 0.88\n",
      "step 220, training accuracy 0.82\n",
      "step 230, training accuracy 0.94\n",
      "step 240, training accuracy 0.92\n",
      "step 250, training accuracy 0.86\n",
      "step 260, training accuracy 0.9\n",
      "step 270, training accuracy 0.92\n",
      "step 280, training accuracy 0.94\n",
      "step 290, training accuracy 0.92\n",
      "step 300, training accuracy 0.84\n",
      "step 310, training accuracy 0.9\n",
      "step 320, training accuracy 0.88\n",
      "step 330, training accuracy 0.9\n",
      "step 340, training accuracy 0.98\n",
      "step 350, training accuracy 0.8\n",
      "step 360, training accuracy 0.94\n",
      "step 370, training accuracy 0.94\n",
      "step 380, training accuracy 0.98\n",
      "step 390, training accuracy 0.94\n",
      "step 400, training accuracy 0.98\n",
      "step 410, training accuracy 0.98\n",
      "step 420, training accuracy 0.98\n",
      "step 430, training accuracy 0.92\n",
      "step 440, training accuracy 0.96\n",
      "step 450, training accuracy 0.92\n",
      "step 460, training accuracy 0.98\n",
      "step 470, training accuracy 0.98\n",
      "step 480, training accuracy 0.98\n",
      "step 490, training accuracy 0.96\n",
      "step 500, training accuracy 0.92\n",
      "step 510, training accuracy 0.9\n",
      "step 520, training accuracy 0.94\n",
      "step 530, training accuracy 0.94\n",
      "step 540, training accuracy 0.9\n",
      "step 550, training accuracy 0.96\n",
      "step 560, training accuracy 1\n",
      "step 570, training accuracy 0.98\n",
      "step 580, training accuracy 0.94\n",
      "step 590, training accuracy 0.92\n",
      "step 600, training accuracy 1\n",
      "step 610, training accuracy 0.98\n",
      "step 620, training accuracy 0.92\n",
      "step 630, training accuracy 0.94\n",
      "step 640, training accuracy 0.94\n",
      "step 650, training accuracy 0.88\n",
      "step 660, training accuracy 0.96\n",
      "step 670, training accuracy 0.96\n",
      "step 680, training accuracy 0.96\n",
      "step 690, training accuracy 0.96\n",
      "step 700, training accuracy 0.92\n",
      "step 710, training accuracy 0.94\n",
      "step 720, training accuracy 0.96\n",
      "step 730, training accuracy 0.9\n",
      "step 740, training accuracy 0.92\n",
      "step 750, training accuracy 0.84\n",
      "step 760, training accuracy 0.92\n",
      "step 770, training accuracy 1\n",
      "step 780, training accuracy 0.96\n",
      "step 790, training accuracy 0.98\n",
      "step 800, training accuracy 0.86\n",
      "step 810, training accuracy 0.94\n",
      "step 820, training accuracy 0.9\n",
      "step 830, training accuracy 1\n",
      "step 840, training accuracy 0.94\n",
      "step 850, training accuracy 1\n",
      "step 860, training accuracy 0.94\n",
      "step 870, training accuracy 0.94\n",
      "step 880, training accuracy 0.86\n",
      "step 890, training accuracy 0.8\n",
      "step 900, training accuracy 1\n",
      "step 910, training accuracy 0.96\n",
      "step 920, training accuracy 1\n",
      "step 930, training accuracy 0.94\n",
      "step 940, training accuracy 1\n",
      "step 950, training accuracy 0.98\n",
      "step 960, training accuracy 0.98\n",
      "step 970, training accuracy 0.96\n",
      "step 980, training accuracy 0.98\n",
      "step 990, training accuracy 0.98\n",
      "step 1000, training accuracy 0.96\n",
      "step 1010, training accuracy 0.94\n",
      "step 1020, training accuracy 0.98\n",
      "step 1030, training accuracy 0.98\n",
      "step 1040, training accuracy 0.94\n",
      "step 1050, training accuracy 0.94\n",
      "step 1060, training accuracy 0.98\n",
      "step 1070, training accuracy 1\n",
      "step 1080, training accuracy 1\n",
      "step 1090, training accuracy 1\n",
      "step 1100, training accuracy 0.96\n",
      "step 1110, training accuracy 0.96\n",
      "step 1120, training accuracy 0.98\n",
      "step 1130, training accuracy 0.94\n",
      "step 1140, training accuracy 0.98\n",
      "step 1150, training accuracy 0.92\n",
      "step 1160, training accuracy 0.98\n",
      "step 1170, training accuracy 1\n",
      "step 1180, training accuracy 0.96\n",
      "step 1190, training accuracy 0.92\n",
      "step 1200, training accuracy 1\n",
      "step 1210, training accuracy 0.94\n",
      "step 1220, training accuracy 0.98\n",
      "step 1230, training accuracy 1\n",
      "step 1240, training accuracy 1\n",
      "step 1250, training accuracy 0.96\n",
      "step 1260, training accuracy 0.96\n",
      "step 1270, training accuracy 0.96\n",
      "step 1280, training accuracy 0.98\n",
      "step 1290, training accuracy 0.96\n",
      "step 1300, training accuracy 1\n",
      "step 1310, training accuracy 0.98\n",
      "step 1320, training accuracy 0.98\n",
      "step 1330, training accuracy 0.98\n",
      "step 1340, training accuracy 0.98\n",
      "step 1350, training accuracy 0.98\n",
      "step 1360, training accuracy 1\n",
      "step 1370, training accuracy 0.98\n",
      "step 1380, training accuracy 0.96\n",
      "step 1390, training accuracy 1\n",
      "step 1400, training accuracy 1\n",
      "step 1410, training accuracy 0.98\n",
      "step 1420, training accuracy 0.98\n",
      "step 1430, training accuracy 1\n",
      "step 1440, training accuracy 0.96\n",
      "step 1450, training accuracy 1\n",
      "step 1460, training accuracy 1\n",
      "step 1470, training accuracy 1\n",
      "step 1480, training accuracy 0.88\n",
      "step 1490, training accuracy 0.94\n",
      "-----COMPLETE-----\n"
     ]
    }
   ],
   "source": [
    "with tf.name_scope(\"cost_function\") as scope:\n",
    "    cross_entropy = tf.reduce_mean(-tf.reduce_sum(y_ * tf.log(y_conv), reduction_indices=[1]))\n",
    "    \n",
    "with tf.name_scope(\"optimizer\") as scope:\n",
    "    train_step = tf.train.AdamOptimizer(1e-4).minimize(cross_entropy)\n",
    "\n",
    "with tf.name_scope(\"accuracy\") as scope:\n",
    "    correct_prediction = tf.equal(tf.argmax(y_conv,1), tf.argmax(y_,1))\n",
    "    accuracy = tf.reduce_mean(tf.cast(correct_prediction, tf.float32))\n",
    "\n",
    "wc1_hist = tf.histogram_summary('W_conv1', W_conv1)\n",
    "wc2_hist = tf.histogram_summary('W_conv2', W_conv2)\n",
    "accuarcy_summary = tf.scalar_summary(\"accuracy\", accuracy)\n",
    "cross_entropy_summary = tf.scalar_summary(\"loss\", cross_entropy)\n",
    "\n",
    "sess = tf.InteractiveSession()     \n",
    "sess.run(tf.initialize_all_variables())\n",
    "summary_writer = tf.train.SummaryWriter( \"./tf_logs\", graph=sess.graph )\n",
    "merged = tf.merge_all_summaries()\n",
    "\n",
    "for i in range(1500):\n",
    "    batch = mnist.train.next_batch(50)\n",
    "    if i%10 == 0:\n",
    "        train_accuracy = accuracy.eval(feed_dict={\n",
    "                x:batch[0], y_: batch[1], keep_prob: 1.0})\n",
    "        print(\"step %d, training accuracy %g\"%(i, train_accuracy))\n",
    "        #summary, _ = train_step.run(feed_dict={x: batch[0], y_: batch[1], keep_prob: 0.5})\n",
    "        summary, _, acc = sess.run([merged, train_step, accuracy], feed_dict={x: batch[0], y_: batch[1], keep_prob: 1.0})\n",
    "        summary_writer.add_summary(summary, i)\n",
    "    else:\n",
    "        sess.run([train_step], feed_dict={x: batch[0], y_: batch[1], keep_prob: 0.5})\n",
    "\n",
    "        \n",
    "    \n",
    "print \"-----COMPLETE-----\"\n",
    "#print(\"test accuracy %g\"%accuracy.eval(feed_dict={\n",
    "#    x: mnist.test.images, y_: mnist.test.labels, keep_prob: 1.0}))#"
   ]
  },
  {
   "cell_type": "markdown",
   "metadata": {},
   "source": [
    "<img  src=\"Screen Shot 2016-09-21 at 7.02.39 PM.png\"/>"
   ]
  },
  {
   "cell_type": "markdown",
   "metadata": {},
   "source": [
    "<img  src=\"Screen Shot 2016-09-21 at 7.02.51 PM.png\"/>"
   ]
  },
  {
   "cell_type": "markdown",
   "metadata": {},
   "source": [
    "<img  src=\"Screen Shot 2016-09-21 at 7.05.59 PM.png\"/>"
   ]
  },
  {
   "cell_type": "markdown",
   "metadata": {},
   "source": [
    "<img  src=\"Screen Shot 2016-09-21 at 7.06.23 PM.png\"/>"
   ]
  }
 ],
 "metadata": {
  "kernelspec": {
   "display_name": "Python 2",
   "language": "python",
   "name": "python2"
  },
  "language_info": {
   "codemirror_mode": {
    "name": "ipython",
    "version": 2
   },
   "file_extension": ".py",
   "mimetype": "text/x-python",
   "name": "python",
   "nbconvert_exporter": "python",
   "pygments_lexer": "ipython2",
   "version": "2.7.11"
  }
 },
 "nbformat": 4,
 "nbformat_minor": 0
}
