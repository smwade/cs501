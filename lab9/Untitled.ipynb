{
 "cells": [
  {
   "cell_type": "code",
   "execution_count": 1,
   "metadata": {
    "collapsed": true
   },
   "outputs": [],
   "source": [
    "import tensorflow as tf\n",
    "import numpy as np"
   ]
  },
  {
   "cell_type": "code",
   "execution_count": 99,
   "metadata": {
    "collapsed": false
   },
   "outputs": [
    {
     "name": "stdout",
     "output_type": "stream",
     "text": [
      "(?, 3)\n",
      "0.5\n"
     ]
    }
   ],
   "source": [
    "a = tf.placeholder(shape=[None,3], dtype=tf.int32)\n",
    "b = tf.placeholder(shape=[None, None], dtype=tf.int32)\n",
    "\n",
    "x = tf.slice(a, [0, 1], [3, 1])\n",
    "print a.get_shape()\n",
    "\n",
    "input_ = np.array([[1,2,3],\n",
    "                   [3,4,5],\n",
    "                   [5,6,7]])\n",
    "\n",
    "input2_ = np.array([[1,2,3],\n",
    "                   [3,4,5],\n",
    "                   [5,6,7]])\n",
    "\n",
    "\n",
    "\n",
    "c = tf.reduce_sum(input_)\n",
    "\n",
    "c = tf.constant(.5)\n",
    "\n",
    "with tf.Session() as sess:\n",
    "        sess.run(tf.initialize_all_variables())\n",
    "        print sess.run(c, feed_dict={b: input_, a:input2_})"
   ]
  },
  {
   "cell_type": "code",
   "execution_count": 57,
   "metadata": {
    "collapsed": false
   },
   "outputs": [],
   "source": [
    "from ImageData import ImageData"
   ]
  },
  {
   "cell_type": "code",
   "execution_count": 58,
   "metadata": {
    "collapsed": false
   },
   "outputs": [],
   "source": [
    "data = ImageData('list.txt')"
   ]
  },
  {
   "cell_type": "code",
   "execution_count": 59,
   "metadata": {
    "collapsed": false
   },
   "outputs": [
    {
     "data": {
      "text/plain": [
       "0"
      ]
     },
     "execution_count": 59,
     "metadata": {},
     "output_type": "execute_result"
    }
   ],
   "source": [
    "data.batch_count"
   ]
  },
  {
   "cell_type": "code",
   "execution_count": 66,
   "metadata": {
    "collapsed": false
   },
   "outputs": [
    {
     "data": {
      "text/plain": [
       "(array([[[   0.,    0.,    0., ...,    0.,    0.,    0.],\n",
       "         [   0.,    0.,    0., ...,    0.,    0.,    0.],\n",
       "         [   0.,    0.,    0., ...,    0.,    0.,    0.],\n",
       "         ..., \n",
       "         [   0.,    0.,    0., ...,    0.,    0.,    0.],\n",
       "         [   0.,    0.,    0., ...,    0.,    0.,    0.],\n",
       "         [   0.,    0.,    0., ...,    0.,    0.,    0.]],\n",
       " \n",
       "        [[  69.,   69.,   69., ...,   46.,   46.,   46.],\n",
       "         [  69.,   69.,   69., ...,   46.,   46.,   46.],\n",
       "         [  69.,   69.,   69., ...,   46.,   46.,   46.],\n",
       "         ..., \n",
       "         [ 214.,  214.,  214., ...,   43.,   43.,   43.],\n",
       "         [ 214.,  214.,  214., ...,   42.,   42.,   42.],\n",
       "         [ 214.,  214.,  214., ...,   42.,   42.,   42.]],\n",
       " \n",
       "        [[   0.,    0.,    0., ...,   70.,    0.,    0.],\n",
       "         [   1.,    1.,    1., ...,   69.,    0.,    0.],\n",
       "         [   0.,    0.,    0., ...,   67.,    0.,    0.],\n",
       "         ..., \n",
       "         [   0.,   71.,   62., ...,   13.,   27.,   32.],\n",
       "         [   0.,   69.,   68., ...,   33.,   42.,   42.],\n",
       "         [   0.,   69.,   68., ...,   50.,   47.,   46.]]]), array([[  4.],\n",
       "        [ 12.],\n",
       "        [ 12.]]))"
      ]
     },
     "execution_count": 66,
     "metadata": {},
     "output_type": "execute_result"
    }
   ],
   "source": [
    "data.getBatch(3)"
   ]
  },
  {
   "cell_type": "code",
   "execution_count": 69,
   "metadata": {
    "collapsed": true
   },
   "outputs": [],
   "source": [
    "n = 0\n",
    "s = 5 if n==0 else 1"
   ]
  },
  {
   "cell_type": "code",
   "execution_count": 70,
   "metadata": {
    "collapsed": false
   },
   "outputs": [
    {
     "data": {
      "text/plain": [
       "5"
      ]
     },
     "execution_count": 70,
     "metadata": {},
     "output_type": "execute_result"
    }
   ],
   "source": [
    "s"
   ]
  },
  {
   "cell_type": "code",
   "execution_count": 85,
   "metadata": {
    "collapsed": false
   },
   "outputs": [
    {
     "data": {
      "text/plain": [
       "0"
      ]
     },
     "execution_count": 85,
     "metadata": {},
     "output_type": "execute_result"
    }
   ],
   "source": [
    "1 - True"
   ]
  },
  {
   "cell_type": "code",
   "execution_count": null,
   "metadata": {
    "collapsed": true
   },
   "outputs": [],
   "source": []
  }
 ],
 "metadata": {
  "kernelspec": {
   "display_name": "Python 2",
   "language": "python",
   "name": "python2"
  },
  "language_info": {
   "codemirror_mode": {
    "name": "ipython",
    "version": 2
   },
   "file_extension": ".py",
   "mimetype": "text/x-python",
   "name": "python",
   "nbconvert_exporter": "python",
   "pygments_lexer": "ipython2",
   "version": "2.7.10"
  }
 },
 "nbformat": 4,
 "nbformat_minor": 0
}
