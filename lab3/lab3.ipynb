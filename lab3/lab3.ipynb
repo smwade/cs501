{
 "cells": [
  {
   "cell_type": "markdown",
   "metadata": {},
   "source": [
    "# Lab 3: Gradient Descent\n",
    "Sean Wade"
   ]
  },
  {
   "cell_type": "code",
   "execution_count": 1,
   "metadata": {
    "collapsed": true
   },
   "outputs": [],
   "source": [
    "import pandas as pd\n",
    "import numpy as np\n",
    "from matplotlib import pyplot as plt\n",
    "import seaborn\n",
    "import cPickle"
   ]
  },
  {
   "cell_type": "code",
   "execution_count": 2,
   "metadata": {
    "collapsed": true
   },
   "outputs": [],
   "source": [
    "from __future__ import division"
   ]
  },
  {
   "cell_type": "code",
   "execution_count": 3,
   "metadata": {
    "collapsed": true
   },
   "outputs": [],
   "source": [
    "%matplotlib inline"
   ]
  },
  {
   "cell_type": "code",
   "execution_count": 4,
   "metadata": {
    "collapsed": false
   },
   "outputs": [],
   "source": [
    "with open('cifar-10-batches-py/data_batch_1') as load:\n",
    "    data = cPickle.load(load)\n",
    "\n",
    "features = data['data']\n",
    "labels = data['labels']\n",
    "labels = np.atleast_2d( labels ).T\n",
    "\n",
    "N = 1000 # Number of features\n",
    "D = 10   # Number of labes\n",
    " \n",
    "# only keep N items\n",
    "features = features[ 0:N, : ] \n",
    "labels = labels[ 0:N, : ]\n",
    " \n",
    "# project down into a D-dimensional space\n",
    "features = np.dot( features, np.random.randn( 3072, D) )\n",
    " \n",
    "# whiten our data - zero mean and unit standard deviation\n",
    "features = (features - np.mean(features, axis=0)) / np.std(features, axis=0)"
   ]
  },
  {
   "cell_type": "code",
   "execution_count": 5,
   "metadata": {
    "collapsed": false
   },
   "outputs": [],
   "source": [
    "data = np.vstack((features.T, np.ones(N)))\n",
    "W = np.random.rand(D,D+1)"
   ]
  },
  {
   "cell_type": "markdown",
   "metadata": {},
   "source": [
    "## Score Function\n",
    "The score function is how we encode how close our results are to the desired results."
   ]
  },
  {
   "cell_type": "code",
   "execution_count": 6,
   "metadata": {
    "collapsed": true
   },
   "outputs": [],
   "source": [
    "def score_func(W):\n",
    "    return W.dot(data)"
   ]
  },
  {
   "cell_type": "markdown",
   "metadata": {},
   "source": [
    "## Loss Function\n",
    "The loss function is a way to quantify our unhappiness with the scores across the training data."
   ]
  },
  {
   "cell_type": "code",
   "execution_count": 11,
   "metadata": {
    "collapsed": true
   },
   "outputs": [],
   "source": [
    "def loss_func(W):\n",
    "    ''' \n",
    "    The softmax loss function.\n",
    "    Args:\n",
    "      W : The weight matrix.\n",
    "    Returns:\n",
    "      loss (float) : The loss as a scalar\n",
    "    '''\n",
    "    scores = score_func(W)\n",
    "    prob = np.exp(scores) / np.sum( np.exp(scores), axis=0)\n",
    "    losses = prob[labels.flatten(), range(0,prob.shape[1])]\n",
    "    results = -1 * np.log(losses)\n",
    "    return np.mean(results)"
   ]
  },
  {
   "cell_type": "markdown",
   "metadata": {},
   "source": [
    "## Numerical Gradient\n",
    "The gradient is used to find the steepest direction given any point of a function. This is used in our optimization of the loss function. This approach is a very simple and naive method."
   ]
  },
  {
   "cell_type": "code",
   "execution_count": 12,
   "metadata": {
    "collapsed": true
   },
   "outputs": [],
   "source": [
    "def numerical_grad(loss_func, W, step=.0001):\n",
    "    '''\n",
    "    Calculates the gradiant for W.\n",
    "    Args:\n",
    "      loss_func: The function of the gradiant\n",
    "      W: The parameter for the loss function\n",
    "      step: The step size of descent\n",
    "    Returns:\n",
    "      loss: The loss\n",
    "      grad: The gradiant\n",
    "    '''\n",
    "    grad = np.zeros_like(W)\n",
    "    loss = loss_func(W)\n",
    "    \n",
    "    for i in xrange(D):\n",
    "        for j in xrange(D+1):\n",
    "            new_w = np.copy(W)\n",
    "            new_w[i,j] += step\n",
    "            diff = loss - loss_func(new_w)\n",
    "            grad[i,j] = diff / step\n",
    "            \n",
    "    return loss, grad"
   ]
  },
  {
   "cell_type": "code",
   "execution_count": 15,
   "metadata": {
    "collapsed": false
   },
   "outputs": [],
   "source": [
    "W = np.random.rand(D, D+1)\n",
    "epochs = 1000\n",
    "step_size = .04\n",
    "loss_arr = []\n",
    "accuracy_arr = []\n",
    "\n",
    "for i in xrange(epochs):\n",
    "    loss, grad = numerical_grad(loss_func, W)\n",
    "    W = W + step_size * grad\n",
    "    all_score = score_func(W)\n",
    "    cat = np.argmax(all_score, axis=0)\n",
    "    accuracy_arr.append(float(np.sum(np.isclose(labels.flatten(), cat))) / len(labels.flatten()))\n",
    "    loss_arr.append(loss)"
   ]
  },
  {
   "cell_type": "code",
   "execution_count": 16,
   "metadata": {
    "collapsed": false
   },
   "outputs": [
    {
     "data": {
      "image/png": "[encoded data removed]",
      "text/plain": [
       "<matplotlib.figure.Figure at 0x114c68610>"
      ]
     },
     "metadata": {},
     "output_type": "display_data"
    },
    {
     "data": {
      "image/png": "[encoded data removed]",
      "text/plain": [
       "<matplotlib.figure.Figure at 0x114d38490>"
      ]
     },
     "metadata": {},
     "output_type": "display_data"
    }
   ],
   "source": [
    "# Plot results\n",
    "x = np.arange(epochs)\n",
    "plt.title('Loss Over Time')\n",
    "plt.plot(x, loss_arr)\n",
    "plt.xlabel('Epochs'); plt.ylabel('Loss')\n",
    "plt.show()\n",
    "plt.title('Accuracy Over Time')\n",
    "plt.plot(x, accuracy_arr)\n",
    "plt.xlabel('Epochs'); plt.ylabel('Percent Correct')\n",
    "plt.show()"
   ]
  }
 ],
 "metadata": {
  "kernelspec": {
   "display_name": "Python 2",
   "language": "python",
   "name": "python2"
  },
  "language_info": {
   "codemirror_mode": {
    "name": "ipython",
    "version": 2
   },
   "file_extension": ".py",
   "mimetype": "text/x-python",
   "name": "python",
   "nbconvert_exporter": "python",
   "pygments_lexer": "ipython2",
   "version": "2.7.11"
  }
 },
 "nbformat": 4,
 "nbformat_minor": 0
}
